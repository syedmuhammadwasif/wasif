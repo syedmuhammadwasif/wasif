{
 "cells": [
  {
   "cell_type": "code",
   "execution_count": 4,
   "metadata": {
    "scrolled": true
   },
   "outputs": [
    {
     "name": "stdout",
     "output_type": "stream",
     "text": [
      "89\n",
      "90\n",
      "179\n"
     ]
    }
   ],
   "source": [
    "for a in range(10):\n",
    "    n=int(input())\n",
    "    m=int(input())\n",
    "    sum=n+m\n",
    "    if sum>100:\n",
    "        break\n",
    "print(sum)"
   ]
  },
  {
   "cell_type": "code",
   "execution_count": null,
   "metadata": {},
   "outputs": [],
   "source": [
    "flag = True\n",
    "\n",
    "while flag:\n",
    "    number=int(input(\"Enter your favourite number\"))\n",
    "    print(number)\n",
    "    if number==\"quite\":\n",
    "        flag=False"
   ]
  },
  {
   "cell_type": "code",
   "execution_count": 9,
   "metadata": {},
   "outputs": [
    {
     "ename": "IndentationError",
     "evalue": "unindent does not match any outer indentation level (<tokenize>, line 19)",
     "output_type": "error",
     "traceback": [
      "\u001b[1;36m  File \u001b[1;32m\"<tokenize>\"\u001b[1;36m, line \u001b[1;32m19\u001b[0m\n\u001b[1;33m    print(\"The emplyee in the list are:\",emp)\u001b[0m\n\u001b[1;37m    ^\u001b[0m\n\u001b[1;31mIndentationError\u001b[0m\u001b[1;31m:\u001b[0m unindent does not match any outer indentation level\n"
     ]
    }
   ],
   "source": [
    "emp=[]\n",
    "bademployeelist=[]\n",
    "goodemployeelist=[]\n",
    "\n",
    "flag=True\n",
    "while flag:\n",
    "    employee=input(\"Enter the employee number name to be addded \")\n",
    "    \n",
    "    if employee==\"q\":\n",
    "        flag=False\n",
    "    else:\n",
    "         emp.append(employee)\n",
    "\n",
    "for name in emp:\n",
    "    if name.startswith('w'):\n",
    "        goodemployeelist.append(name)\n",
    "    else:\n",
    "        bademployeelist.append(name)\n",
    "print(\"The emplyee in the list are:\",emp)\n",
    "print(\"The good emplyee list are:\",goodemployeelist)\n",
    "print(\"The bad emplyeelist are:\",bademployeelist)"
   ]
  },
  {
   "cell_type": "code",
   "execution_count": null,
   "metadata": {},
   "outputs": [],
   "source": []
  }
 ],
 "metadata": {
  "kernelspec": {
   "display_name": "Python 3",
   "language": "python",
   "name": "python3"
  },
  "language_info": {
   "codemirror_mode": {
    "name": "ipython",
    "version": 3
   },
   "file_extension": ".py",
   "mimetype": "text/x-python",
   "name": "python",
   "nbconvert_exporter": "python",
   "pygments_lexer": "ipython3",
   "version": "3.7.4"
  }
 },
 "nbformat": 4,
 "nbformat_minor": 2
}
