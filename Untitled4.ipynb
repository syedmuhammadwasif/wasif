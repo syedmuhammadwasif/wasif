{
 "cells": [
  {
   "cell_type": "code",
   "execution_count": 1,
   "metadata": {},
   "outputs": [
    {
     "name": "stdout",
     "output_type": "stream",
     "text": [
      "whats your namewasif\n"
     ]
    }
   ],
   "source": [
    "name =input(\"whats your name\")"
   ]
  },
  {
   "cell_type": "code",
   "execution_count": 2,
   "metadata": {},
   "outputs": [
    {
     "name": "stdout",
     "output_type": "stream",
     "text": [
      "my name iswasif\n"
     ]
    }
   ],
   "source": [
    "print(\"my name is\"+name)"
   ]
  },
  {
   "cell_type": "code",
   "execution_count": 3,
   "metadata": {},
   "outputs": [
    {
     "name": "stdout",
     "output_type": "stream",
     "text": [
      "whats your age 20\n"
     ]
    }
   ],
   "source": [
    "age =int(input(\"whats your age\"))"
   ]
  },
  {
   "cell_type": "code",
   "execution_count": 7,
   "metadata": {},
   "outputs": [
    {
     "name": "stdout",
     "output_type": "stream",
     "text": [
      "Do you have lisonno\n",
      "show your cnic\n"
     ]
    }
   ],
   "source": [
    "lison= input (\"Do you have lison\")\n",
    "if lison==\"yes\":\n",
    "    print(\"you may go\")\n",
    "    cnic= input(\"Do you have cnic\")\n",
    "    if cnic==\"yes\":\n",
    "        print(\"you can go by giving 50\")\n",
    "        papers= input(\"Do you have papers\")\n",
    "        if papers==\"yes\":\n",
    "            print(\"you may go by giving 100\")\n",
    "        else:\n",
    "            print(\"fill up the challan\")\n",
    "    else:\n",
    "        print(\"show your papers\")\n",
    "else:\n",
    "    print(\"show your cnic\")"
   ]
  },
  {
   "cell_type": "code",
   "execution_count": 2,
   "metadata": {},
   "outputs": [
    {
     "name": "stdout",
     "output_type": "stream",
     "text": [
      "whats your age? 20\n",
      "Adult\n"
     ]
    }
   ],
   "source": [
    "age = int(input(\"whats your age? \"))\n",
    "if age > 19:\n",
    "    print(\"Adult\")\n",
    "elif age > 13:\n",
    "    print(\"teenager\")\n",
    "else:\n",
    "        print(\"child\")"
   ]
  },
  {
   "cell_type": "code",
   "execution_count": 12,
   "metadata": {},
   "outputs": [
    {
     "name": "stdout",
     "output_type": "stream",
     "text": [
      "Do you have Uni cardyes\n",
      "GO inside\n",
      "Do you have cnicno\n",
      "Get lost\n"
     ]
    }
   ],
   "source": [
    "Uni_Id_card= input (\"Do you have Uni card\")\n",
    "if Uni_Id_card==\"yes\":\n",
    "    print(\"GO inside\")\n",
    "    cnic= input(\"Do you have cnic\")\n",
    "    if cnic==\"yes\":\n",
    "        print(\"came inside\")\n",
    "    else:\n",
    "        print(\"Get lost\")\n",
    "else:\n",
    "    print(\"cant came inside\")"
   ]
  },
  {
   "cell_type": "code",
   "execution_count": null,
   "metadata": {},
   "outputs": [],
   "source": []
  },
  {
   "cell_type": "code",
   "execution_count": null,
   "metadata": {},
   "outputs": [],
   "source": []
  }
 ],
 "metadata": {
  "kernelspec": {
   "display_name": "Python 3",
   "language": "python",
   "name": "python3"
  },
  "language_info": {
   "codemirror_mode": {
    "name": "ipython",
    "version": 3
   },
   "file_extension": ".py",
   "mimetype": "text/x-python",
   "name": "python",
   "nbconvert_exporter": "python",
   "pygments_lexer": "ipython3",
   "version": "3.7.4"
  }
 },
 "nbformat": 4,
 "nbformat_minor": 2
}
