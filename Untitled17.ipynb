{
 "cells": [
  {
   "cell_type": "code",
   "execution_count": 2,
   "metadata": {},
   "outputs": [
    {
     "name": "stdout",
     "output_type": "stream",
     "text": [
      "1\n",
      "4\n",
      "7\n"
     ]
    }
   ],
   "source": [
    "for i in range(1,10,3):\n",
    "    print (i)"
   ]
  },
  {
   "cell_type": "code",
   "execution_count": 9,
   "metadata": {},
   "outputs": [
    {
     "name": "stdout",
     "output_type": "stream",
     "text": [
      "*\n",
      "**\n",
      "***\n",
      "****\n",
      "*****\n",
      "***\n",
      "*\n",
      "\n",
      "\n"
     ]
    }
   ],
   "source": [
    "star=''\n",
    "for i in range(0,9):\n",
    "    if i<5:\n",
    "        star ='*'+star\n",
    "        print(star)\n",
    "    elif i>4:\n",
    "        star=star[:-2]\n",
    "        print(star)"
   ]
  },
  {
   "cell_type": "code",
   "execution_count": 14,
   "metadata": {},
   "outputs": [
    {
     "name": "stdout",
     "output_type": "stream",
     "text": [
      "0 h\n",
      "1 e\n",
      "2 l\n",
      "3 l\n",
      "4 o\n",
      "5  \n",
      "6 w\n",
      "7 a\n",
      "8 s\n",
      "9 i\n",
      "10 f\n"
     ]
    }
   ],
   "source": [
    "my_string=\"hello wasif\"\n",
    "for n,paki in enumerate(my_string):\n",
    "    print(n,paki)"
   ]
  },
  {
   "cell_type": "code",
   "execution_count": null,
   "metadata": {},
   "outputs": [],
   "source": [
    "num=int(input(\"Enter your number\"))\n",
    "\n",
    "indivisible= False;\n",
    "\n",
    "i=2\n",
    "while i<num:\n",
    "    if num% i== 0:\n",
    "        indivisible= True;\n",
    "        print (\"{} is divisible by {}\".format(num,i))\n",
    "    i=i + 1;\n",
    "if indivisible:\n",
    "    print(\"{} is not prime number\".format(num))\n",
    "else:\n",
    "    print(\"{} is a prime number\".format(num))"
   ]
  },
  {
   "cell_type": "code",
   "execution_count": null,
   "metadata": {},
   "outputs": [],
   "source": []
  }
 ],
 "metadata": {
  "kernelspec": {
   "display_name": "Python 3",
   "language": "python",
   "name": "python3"
  },
  "language_info": {
   "codemirror_mode": {
    "name": "ipython",
    "version": 3
   },
   "file_extension": ".py",
   "mimetype": "text/x-python",
   "name": "python",
   "nbconvert_exporter": "python",
   "pygments_lexer": "ipython3",
   "version": "3.7.4"
  }
 },
 "nbformat": 4,
 "nbformat_minor": 2
}
